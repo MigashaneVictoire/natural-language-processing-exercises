{
 "cells": [
  {
   "cell_type": "markdown",
   "id": "eabb0fcd-2d91-4a6e-bdbf-82e2cf98f6df",
   "metadata": {},
   "source": [
    "# Regex exercises"
   ]
  },
  {
   "cell_type": "code",
   "execution_count": 1,
   "id": "bd2dc34b-770e-4b63-a41b-2cd3d2939a0d",
   "metadata": {},
   "outputs": [],
   "source": [
    "import re"
   ]
  },
  {
   "cell_type": "markdown",
   "id": "9842e58b-d85f-4496-bd3d-78c4782bcaeb",
   "metadata": {},
   "source": [
    "**1, Write a function named is_vowel. It should accept a string as input and use a regular expression to determine if the passed string is a vowel. While not explicity mentioned in the lesson, you can treat the result of re.search as a boolean value that indicates whether or not the regular expression matches the given string.**"
   ]
  },
  {
   "cell_type": "code",
   "execution_count": 2,
   "id": "0f0ed725-9b78-4eb0-a23e-c772ad1b7353",
   "metadata": {},
   "outputs": [],
   "source": [
    "def is_vowel(vowel):\n",
    "    matched =re.search(r\"[aeiou]\", vowel)\n",
    "    return bool(matched)"
   ]
  },
  {
   "cell_type": "code",
   "execution_count": 3,
   "id": "4660433b-0b4b-4b5f-b5df-b9e504650fc3",
   "metadata": {},
   "outputs": [
    {
     "data": {
      "text/plain": [
       "True"
      ]
     },
     "execution_count": 3,
     "metadata": {},
     "output_type": "execute_result"
    }
   ],
   "source": [
    "is_vowel(\"a\")"
   ]
  },
  {
   "cell_type": "markdown",
   "id": "3d6de4c9-a38e-46a9-b4d3-d04b6c54eae9",
   "metadata": {},
   "source": [
    "**2. Write a function named is_valid_username that accepts a string as input. A valid username starts with a lowercase letter, and only consists of lowercase letters, numbers, or the _ character. It should also be no longer than 32 characters. The function should return either True or False depending on whether the passed string is a valid username.**"
   ]
  },
  {
   "cell_type": "code",
   "execution_count": 4,
   "id": "8f6c29e5-50cb-42a1-b43c-b94b22d49e61",
   "metadata": {},
   "outputs": [],
   "source": [
    "def is_valid_username(user_name):\n",
    "    pattern = re.compile(r\"^[a-z][a-z0-9_]{1,32}$\")\n",
    "    valid_user= pattern.match(user_name)\n",
    "    return bool(valid_user)"
   ]
  },
  {
   "cell_type": "code",
   "execution_count": 5,
   "id": "703f9d9a-b58c-4880-97b6-8cb2eed6886b",
   "metadata": {},
   "outputs": [
    {
     "name": "stdout",
     "output_type": "stream",
     "text": [
      "aaaaaaaaaaaaaaaaaaaaaaaaaaaaaaaaaa ---> False\n",
      "codeup ---> True\n",
      "Codeup ---> False\n",
      "codeup123 ---> True\n",
      "1codeup ---> False\n"
     ]
    }
   ],
   "source": [
    "tests = [\"aaaaaaaaaaaaaaaaaaaaaaaaaaaaaaaaaa\", \"codeup\", \"Codeup\",\"codeup123\", \"1codeup\"]\n",
    "for i in tests:\n",
    "    print(i, \"--->\",is_valid_username(i))"
   ]
  },
  {
   "cell_type": "markdown",
   "id": "b0c15e15-c301-45a5-8ce6-57b2da462ccc",
   "metadata": {},
   "source": [
    "**3. Write a regular expression to capture phone numbers. It should match all of the following:**"
   ]
  },
  {
   "cell_type": "code",
   "execution_count": 6,
   "id": "f34dfb8f-0336-4251-b673-15d0c0e8f2a1",
   "metadata": {},
   "outputs": [],
   "source": [
    "def is_valid_phone(phone):\n",
    "#                      begins with    or        or         ending with       \n",
    "    pattern = re.compile(r\"(^\\(\\d{3}\\)|^\\+\\d{1,2}|\\d{3})([\\.\\s-]\\d+){1,3}$\")\n",
    "    valid_phone = pattern.search(phone)\n",
    "    return valid_phone"
   ]
  },
  {
   "cell_type": "code",
   "execution_count": 7,
   "id": "7107f19d-8f19-4952-8d5b-c2e893b2fdbf",
   "metadata": {},
   "outputs": [
    {
     "name": "stdout",
     "output_type": "stream",
     "text": [
      "(210) 867 5309 ---> <re.Match object; span=(0, 14), match='(210) 867 5309'> --------> True\n",
      "+1 210.867.5309 ---> <re.Match object; span=(0, 15), match='+1 210.867.5309'> --------> True\n",
      "867-5309 ---> <re.Match object; span=(0, 8), match='867-5309'> --------> True\n",
      "210-867-5309 ---> <re.Match object; span=(0, 12), match='210-867-5309'> --------> True\n"
     ]
    }
   ],
   "source": [
    "tests = ['(210) 867 5309', \"+1 210.867.5309\", \"867-5309\", \"210-867-5309\"]\n",
    "for i in tests:\n",
    "    print(i, \"--->\",is_valid_phone(i), \"-------->\", bool(is_valid_phone(i)))"
   ]
  },
  {
   "cell_type": "markdown",
   "id": "6529afa1-7802-4c1d-bed8-62ddc6b6c681",
   "metadata": {},
   "source": [
    "**4.Use regular expressions to convert the dates below to the standardized year-month-day format.**"
   ]
  },
  {
   "cell_type": "code",
   "execution_count": 50,
   "id": "a4132cd4-15d6-441b-8f23-d9942e6ce6d4",
   "metadata": {},
   "outputs": [],
   "source": [
    "def covert_dates(date):\n",
    "    pattern = re.compile(r\"([\\d]{2})/([\\d]{2})/([\\d]{2})$\")\n",
    "    groups = pattern.search(date)\n",
    "    # machet groups\n",
    "    day= groups.group(1)\n",
    "    month = groups.group(2)\n",
    "    year = f\"20{groups.group(3)}\"\n",
    "    # replace format\n",
    "    converted_date = converted_date = pattern.sub(repl= f\"{year}-{month}-{day}\",string= date)\n",
    "    return converted_date"
   ]
  },
  {
   "cell_type": "code",
   "execution_count": 52,
   "id": "65bfa07b-d561-4375-84c1-96b2e3948cbe",
   "metadata": {},
   "outputs": [
    {
     "name": "stdout",
     "output_type": "stream",
     "text": [
      "02/04/19 ---> 2019-04-02\n",
      "02/05/19 ---> 2019-05-02\n",
      "02/06/19 ---> 2019-06-02\n",
      "02/07/19 ---> 2019-07-02\n",
      "02/08/19 ---> 2019-08-02\n",
      "02/09/19 ---> 2019-09-02\n",
      "02/10/19 ---> 2019-10-02\n"
     ]
    }
   ],
   "source": [
    "tests = [\"02/04/19\", \"02/05/19\", \"02/06/19\", \"02/07/19\", \"02/08/19\",\"02/09/19\", \"02/10/19\"]\n",
    "for i in tests:\n",
    "    print(i, \"--->\",covert_dates(i))"
   ]
  },
  {
   "cell_type": "markdown",
   "id": "99887b1a-0909-418e-9063-305a42c97dd6",
   "metadata": {},
   "source": [
    "**5. Write a regex to extract the various parts of these logfile lines**"
   ]
  },
  {
   "cell_type": "code",
   "execution_count": 247,
   "id": "bfe49cf5-ba20-413f-b3ac-e951f46a8608",
   "metadata": {},
   "outputs": [],
   "source": [
    "def find_parts(logfile):\n",
    "    pattern = re.compile('^(.*?) (.*?) \\[(.*?)\\] (.*?) \\{(.*?)\\} (.*?) \"(.*?)\" (.*?)$')\n",
    "    parts= pattern.search(logfile)\n",
    "    \n",
    "    method = parts.group(1)\n",
    "    endpoint = parts.group(2)\n",
    "    timestamp = parts.group(3)\n",
    "    protocol = parts.group(4)\n",
    "    status = parts.group(5)\n",
    "    size = parts.group(6)\n",
    "    user_agent = parts.group(7)\n",
    "    ip_address = parts.group(8)\n",
    "    \n",
    "    print(\"Method:\", method)\n",
    "    print(\"Endpoint:\", endpoint)\n",
    "    print(\"Timestamp:\", timestamp)\n",
    "    print(\"Protocol:\", protocol)\n",
    "    print(\"Status:\", status)\n",
    "    print(\"Size:\", size)\n",
    "    print(\"User Agent:\", user_agent)\n",
    "    print(\"IP Address:\", ip_address)\n",
    "    \n",
    "    return parts"
   ]
  },
  {
   "cell_type": "code",
   "execution_count": 249,
   "id": "4273282e-a0dc-4c26-bc1a-f5cbd231c898",
   "metadata": {},
   "outputs": [
    {
     "name": "stdout",
     "output_type": "stream",
     "text": [
      "Method: GET\n",
      "Endpoint: /api/v1/sales?page=86\n",
      "Timestamp: 16/Apr/2019:193452+0000\n",
      "Protocol: HTTP/1.1\n",
      "Status: 200\n",
      "Size: 510348\n",
      "User Agent: python-requests/2.21.0\n",
      "IP Address: 97.105.19.58\n",
      "-------------------- \n",
      " <re.Match object; span=(0, 111), match='GET /api/v1/sales?page=86 [16/Apr/2019:193452+000>\n",
      "Method: POST\n",
      "Endpoint: /users_accounts/file-upload\n",
      "Timestamp: 16/Apr/2019:193452+0000\n",
      "Protocol: HTTP/1.1\n",
      "Status: 201\n",
      "Size: 42\n",
      "User Agent: User-Agent: Mozilla/5.0 (X11; Fedora; Fedora; Linux x86_64) AppleWebKit/537.36 (KHTML, like Gecko) Chrome/73.0.3683.86 Safari/537.36\n",
      "IP Address: 97.105.19.58\n",
      "-------------------- \n",
      " <re.Match object; span=(0, 224), match='POST /users_accounts/file-upload [16/Apr/2019:193>\n",
      "Method: GET\n",
      "Endpoint: /api/v1/items?page=3\n",
      "Timestamp: 16/Apr/2019:193453+0000\n",
      "Protocol: HTTP/1.1\n",
      "Status: 429\n",
      "Size: 3561\n",
      "User Agent: python-requests/2.21.0\n",
      "IP Address: 97.105.19.58\n",
      "-------------------- \n",
      " <re.Match object; span=(0, 108), match='GET /api/v1/items?page=3 [16/Apr/2019:193453+0000>\n"
     ]
    }
   ],
   "source": [
    "one = \"\"\"GET /api/v1/sales?page=86 [16/Apr/2019:193452+0000] HTTP/1.1 {200} 510348 \"python-requests/2.21.0\" 97.105.19.58\"\"\"\n",
    "two = \"\"\"POST /users_accounts/file-upload [16/Apr/2019:193452+0000] HTTP/1.1 {201} 42 \"User-Agent: Mozilla/5.0 (X11; Fedora; Fedora; Linux x86_64) AppleWebKit/537.36 (KHTML, like Gecko) Chrome/73.0.3683.86 Safari/537.36\" 97.105.19.58\"\"\"\n",
    "three = \"\"\"GET /api/v1/items?page=3 [16/Apr/2019:193453+0000] HTTP/1.1 {429} 3561 \"python-requests/2.21.0\" 97.105.19.58\"\"\"\n",
    "tests = [one, two, three]\n",
    "\n",
    "for i in tests:\n",
    "    print(\"-\"*20,\"\\n\",find_parts(i))"
   ]
  }
 ],
 "metadata": {
  "kernelspec": {
   "display_name": "Python 3 (ipykernel)",
   "language": "python",
   "name": "python3"
  },
  "language_info": {
   "codemirror_mode": {
    "name": "ipython",
    "version": 3
   },
   "file_extension": ".py",
   "mimetype": "text/x-python",
   "name": "python",
   "nbconvert_exporter": "python",
   "pygments_lexer": "ipython3",
   "version": "3.10.9"
  }
 },
 "nbformat": 4,
 "nbformat_minor": 5
}
