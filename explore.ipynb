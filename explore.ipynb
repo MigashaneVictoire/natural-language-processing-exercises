{
 "cells": [
  {
   "cell_type": "markdown",
   "id": "ee90f8af-8cf3-46fb-a458-9dca766cd3b6",
   "metadata": {},
   "source": [
    "# Explore"
   ]
  },
  {
   "cell_type": "code",
   "execution_count": 6,
   "id": "671041f7-46b7-4e8c-8811-a467c0ebabbf",
   "metadata": {},
   "outputs": [],
   "source": [
    "import re\n",
    "import unicodedata\n",
    "import pandas as pd\n",
    "import nltk\n",
    "import env\n",
    "\n",
    "%matplotlib inline\n",
    "import matplotlib.pyplot as plt\n",
    "import seaborn as sns"
   ]
  },
  {
   "cell_type": "markdown",
   "id": "b1cd958d-8cc5-473d-8e2c-6467d9b0e53b",
   "metadata": {},
   "source": [
    "**get data**"
   ]
  },
  {
   "cell_type": "code",
   "execution_count": 7,
   "id": "f8a3e9e0-e43a-4771-8108-0eff5e327ae2",
   "metadata": {},
   "outputs": [
    {
     "data": {
      "text/html": [
       "<div>\n",
       "<style scoped>\n",
       "    .dataframe tbody tr th:only-of-type {\n",
       "        vertical-align: middle;\n",
       "    }\n",
       "\n",
       "    .dataframe tbody tr th {\n",
       "        vertical-align: top;\n",
       "    }\n",
       "\n",
       "    .dataframe thead th {\n",
       "        text-align: right;\n",
       "    }\n",
       "</style>\n",
       "<table border=\"1\" class=\"dataframe\">\n",
       "  <thead>\n",
       "    <tr style=\"text-align: right;\">\n",
       "      <th></th>\n",
       "      <th>label</th>\n",
       "      <th>text</th>\n",
       "    </tr>\n",
       "    <tr>\n",
       "      <th>id</th>\n",
       "      <th></th>\n",
       "      <th></th>\n",
       "    </tr>\n",
       "  </thead>\n",
       "  <tbody>\n",
       "    <tr>\n",
       "      <th>0</th>\n",
       "      <td>ham</td>\n",
       "      <td>Go until jurong point, crazy.. Available only ...</td>\n",
       "    </tr>\n",
       "    <tr>\n",
       "      <th>1</th>\n",
       "      <td>ham</td>\n",
       "      <td>Ok lar... Joking wif u oni...</td>\n",
       "    </tr>\n",
       "    <tr>\n",
       "      <th>2</th>\n",
       "      <td>spam</td>\n",
       "      <td>Free entry in 2 a wkly comp to win FA Cup fina...</td>\n",
       "    </tr>\n",
       "    <tr>\n",
       "      <th>3</th>\n",
       "      <td>ham</td>\n",
       "      <td>U dun say so early hor... U c already then say...</td>\n",
       "    </tr>\n",
       "    <tr>\n",
       "      <th>4</th>\n",
       "      <td>ham</td>\n",
       "      <td>Nah I don't think he goes to usf, he lives aro...</td>\n",
       "    </tr>\n",
       "  </tbody>\n",
       "</table>\n",
       "</div>"
      ],
      "text/plain": [
       "   label                                               text\n",
       "id                                                         \n",
       "0    ham  Go until jurong point, crazy.. Available only ...\n",
       "1    ham                      Ok lar... Joking wif u oni...\n",
       "2   spam  Free entry in 2 a wkly comp to win FA Cup fina...\n",
       "3    ham  U dun say so early hor... U c already then say...\n",
       "4    ham  Nah I don't think he goes to usf, he lives aro..."
      ]
     },
     "execution_count": 7,
     "metadata": {},
     "output_type": "execute_result"
    }
   ],
   "source": [
    "url = env.get_db_access(\"spam_db\")\n",
    "sql = \"SELECT * FROM spam\"\n",
    "\n",
    "df = pd.read_sql(sql, url, index_col=\"id\")\n",
    "df.head()"
   ]
  },
  {
   "cell_type": "code",
   "execution_count": 8,
   "id": "5e5cbd80-2d10-4533-9acb-3d23961b4038",
   "metadata": {},
   "outputs": [],
   "source": [
    "def prep_data(text:str, more_stopwords):\n",
    "    'A simple function to cleanup text data'\n",
    "    wnl = nltk.stem.WordNetLemmatizer() # lemmitizer object\n",
    "    # add more stop words to the original dictionary stop words from the english language\n",
    "    stopwords = nltk.corpus.stopwords.words('english') + more_stopwords\n",
    "    # normalize the string\n",
    "    text = (unicodedata.normalize('NFKD', text).encode('ascii', 'ignore').decode('utf-8', 'ignore').lower())\n",
    "    # remove not letters of numbers\n",
    "    words = re.sub(r'[^\\w\\s]', '', text).split()\n",
    "    # lemmatize the string\n",
    "    lemma =  [wnl.lemmatize(word) for word in words if word not in stopwords]\n",
    "    return lemma\n"
   ]
  },
  {
   "cell_type": "markdown",
   "id": "373f6273-b5ea-4b70-8037-494975d15a33",
   "metadata": {},
   "source": [
    "**count of categories**"
   ]
  },
  {
   "cell_type": "code",
   "execution_count": 14,
   "id": "1f25b387-87a6-435c-9cdd-f304b957b5dc",
   "metadata": {},
   "outputs": [
    {
     "data": {
      "text/html": [
       "<div>\n",
       "<style scoped>\n",
       "    .dataframe tbody tr th:only-of-type {\n",
       "        vertical-align: middle;\n",
       "    }\n",
       "\n",
       "    .dataframe tbody tr th {\n",
       "        vertical-align: top;\n",
       "    }\n",
       "\n",
       "    .dataframe thead th {\n",
       "        text-align: right;\n",
       "    }\n",
       "</style>\n",
       "<table border=\"1\" class=\"dataframe\">\n",
       "  <thead>\n",
       "    <tr style=\"text-align: right;\">\n",
       "      <th></th>\n",
       "      <th>text</th>\n",
       "    </tr>\n",
       "    <tr>\n",
       "      <th>label</th>\n",
       "      <th></th>\n",
       "    </tr>\n",
       "  </thead>\n",
       "  <tbody>\n",
       "    <tr>\n",
       "      <th>ham</th>\n",
       "      <td>4825</td>\n",
       "    </tr>\n",
       "    <tr>\n",
       "      <th>spam</th>\n",
       "      <td>747</td>\n",
       "    </tr>\n",
       "  </tbody>\n",
       "</table>\n",
       "</div>"
      ],
      "text/plain": [
       "       text\n",
       "label      \n",
       "ham    4825\n",
       "spam    747"
      ]
     },
     "execution_count": 14,
     "metadata": {},
     "output_type": "execute_result"
    }
   ],
   "source": [
    "df.groupby(\"label\").count()"
   ]
  },
  {
   "cell_type": "code",
   "execution_count": 18,
   "id": "e6638441-63e2-4a10-9961-9c938caaae49",
   "metadata": {},
   "outputs": [
    {
     "data": {
      "text/plain": [
       "label\n",
       "ham     0.865937\n",
       "spam    0.134063\n",
       "Name: text, dtype: float64"
      ]
     },
     "execution_count": 18,
     "metadata": {},
     "output_type": "execute_result"
    }
   ],
   "source": [
    "df.groupby(\"label\").count().text/len(df)"
   ]
  },
  {
   "cell_type": "markdown",
   "id": "237cbc5a-ee8a-4876-a094-8a5d6d1db1e3",
   "metadata": {},
   "source": [
    "**Nreak the data up into 3 seperate pieces**\n",
    "\n",
    "- The words that appear in legitimate text messages.\n",
    "- The words that appear in spam text messages.\n",
    "- All of the words."
   ]
  },
  {
   "cell_type": "code",
   "execution_count": 10,
   "id": "ece7ab45-ace8-472b-adf4-662ef1bba22b",
   "metadata": {},
   "outputs": [
    {
     "data": {
      "text/plain": [
       "['go', 'jurong', 'point', 'crazy', 'available']"
      ]
     },
     "execution_count": 10,
     "metadata": {},
     "output_type": "execute_result"
    }
   ],
   "source": [
    "more_stopwords = ['r', 'u', '2', 'ltgt']\n",
    "# select each gategory and join all series text together and them apply the cleaning function\n",
    "ham_words = prep_data(' '.join(df[df.label == 'ham'].text), more_stopwords)\n",
    "spam_words = prep_data(' '.join(df[df.label == 'spam'].text), more_stopwords)\n",
    "all_words = prep_data(' '.join(df.text), more_stopwords)\n",
    "all_words[:5]"
   ]
  },
  {
   "cell_type": "markdown",
   "id": "5ec56a48-8344-486b-98e3-2547ed3b3be2",
   "metadata": {},
   "source": [
    "**How many times does each word occur?**"
   ]
  },
  {
   "cell_type": "code",
   "execution_count": 11,
   "id": "77c9ee6e-0c8d-4be6-9293-9286444cee0a",
   "metadata": {},
   "outputs": [
    {
     "ename": "NameError",
     "evalue": "name 'spam_freq' is not defined",
     "output_type": "error",
     "traceback": [
      "\u001b[0;31m---------------------------------------------------------------------------\u001b[0m",
      "\u001b[0;31mNameError\u001b[0m                                 Traceback (most recent call last)",
      "Cell \u001b[0;32mIn[11], line 6\u001b[0m\n\u001b[1;32m      3\u001b[0m spam_words_freq \u001b[38;5;241m=\u001b[39m pd\u001b[38;5;241m.\u001b[39mSeries(spam_words)\u001b[38;5;241m.\u001b[39mvalue_counts()\n\u001b[1;32m      4\u001b[0m all_words_freq \u001b[38;5;241m=\u001b[39m pd\u001b[38;5;241m.\u001b[39mSeries(all_words)\u001b[38;5;241m.\u001b[39mvalue_counts()\n\u001b[0;32m----> 6\u001b[0m \u001b[43mspam_freq\u001b[49m\u001b[38;5;241m.\u001b[39mhead()\n",
      "\u001b[0;31mNameError\u001b[0m: name 'spam_freq' is not defined"
     ]
    }
   ],
   "source": [
    "# apply a value count to each category (count occurences of each unique word in the list)\n",
    "ham_words_freq = pd.Series(ham_words).value_counts()\n",
    "spam_words_freq = pd.Series(spam_words).value_counts()\n",
    "all_words_freq = pd.Series(all_words).value_counts()\n",
    "\n",
    "spam_freq.head()\n"
   ]
  },
  {
   "cell_type": "markdown",
   "id": "c0ae27c5-295e-47ca-b054-c04bfba9c4ac",
   "metadata": {},
   "source": [
    "**Create a dataframe of the results**"
   ]
  },
  {
   "cell_type": "code",
   "execution_count": null,
   "id": "4771b985-f065-49d7-ae27-c1736209f275",
   "metadata": {},
   "outputs": [],
   "source": [
    "freq_df = pd.concat([ham_words_freq, spam_words_freq, all_words_freq], axis=1).set_axis([\"ham\", \"spam\", \"all\"], axis=1)\n",
    "freq_df"
   ]
  },
  {
   "cell_type": "markdown",
   "id": "54b02b9f-4ca1-4629-8afa-4e93c93eaaaf",
   "metadata": {},
   "source": [
    "**What are the most frequently occuring words?**"
   ]
  },
  {
   "cell_type": "code",
   "execution_count": null,
   "id": "b5af3824-86d4-497a-82c3-c87d69561684",
   "metadata": {},
   "outputs": [],
   "source": [
    "# most occuring words over all categories\n",
    "freq_df.sort_values(by='all', ascending=False).head(10)"
   ]
  },
  {
   "cell_type": "code",
   "execution_count": null,
   "id": "4a791fb1-a0ee-4ca9-a1d9-d94eb0393e9a",
   "metadata": {},
   "outputs": [],
   "source": [
    "# most occuring words based on ham\n",
    "freq_df.sort_values(by='ham', ascending=False).head(10)"
   ]
  },
  {
   "cell_type": "code",
   "execution_count": null,
   "id": "7a927dbc-5fde-42b0-82d8-d1e0ab4c2bb9",
   "metadata": {},
   "outputs": [],
   "source": [
    "# most occuring words based on span\n",
    "freq_df.sort_values(by='spam', ascending=False).head(10)"
   ]
  },
  {
   "cell_type": "markdown",
   "id": "1e2c758a-13a3-4f94-8385-820c96e15522",
   "metadata": {},
   "source": [
    "**Are there any words that uniquely identify a spam or ham message?**"
   ]
  },
  {
   "cell_type": "code",
   "execution_count": null,
   "id": "654f869b-212b-4f41-b3ef-37db790de7fe",
   "metadata": {},
   "outputs": [],
   "source": [
    "# fill nulls with 0\n",
    "freq_df = freq_df.fillna(0)\n",
    "\n",
    "# all the words beloge to the ham group\n",
    "completly_ham = df[[\"all\", \"spam\"]][df.spam == 0]\n",
    "completly_ham.head()"
   ]
  },
  {
   "cell_type": "code",
   "execution_count": null,
   "id": "a3d0c2e2-19a5-4eda-8bd3-97680471d004",
   "metadata": {},
   "outputs": [],
   "source": [
    "# all the words beloge to the spam group\n",
    "completly_spam =freq_df[[\"all\", \"ham\"]][freq_df.ham == 0]\n",
    "completly_spam.head()"
   ]
  },
  {
   "cell_type": "markdown",
   "id": "a9f60a10-564d-4f37-b569-a9a7ba63ecec",
   "metadata": {},
   "source": [
    "### Visualize"
   ]
  },
  {
   "cell_type": "code",
   "execution_count": 20,
   "id": "134581c6-5623-412b-8b86-11265b0a9b13",
   "metadata": {},
   "outputs": [
    {
     "data": {
      "text/plain": [
       "Text(0, 0.5, 'count')"
      ]
     },
     "execution_count": 20,
     "metadata": {},
     "output_type": "execute_result"
    },
    {
     "data": {
      "image/png": "[encoded data removed]",
      "text/plain": [
       "<Figure size 500x300 with 1 Axes>"
      ]
     },
     "metadata": {},
     "output_type": "display_data"
    }
   ],
   "source": [
    "plt.figure(figsize=(5,3))\n",
    "(df.groupby(\"label\").count().text/len(df)).plot.bar()\n",
    "plt.ylabel(\"count\")"
   ]
  },
  {
   "cell_type": "code",
   "execution_count": 12,
   "id": "9e6b037e-8859-4df5-bb93-d0d144eb3288",
   "metadata": {},
   "outputs": [
    {
     "ename": "NameError",
     "evalue": "name 'word_counts' is not defined",
     "output_type": "error",
     "traceback": [
      "\u001b[0;31m---------------------------------------------------------------------------\u001b[0m",
      "\u001b[0;31mNameError\u001b[0m                                 Traceback (most recent call last)",
      "Cell \u001b[0;32mIn[12], line 2\u001b[0m\n\u001b[1;32m      1\u001b[0m \u001b[38;5;66;03m# figure out the percentage of spam vs ham\u001b[39;00m\n\u001b[0;32m----> 2\u001b[0m (\u001b[43mword_counts\u001b[49m\n\u001b[1;32m      3\u001b[0m  \u001b[38;5;241m.\u001b[39massign(p_spam\u001b[38;5;241m=\u001b[39mword_counts\u001b[38;5;241m.\u001b[39mspam \u001b[38;5;241m/\u001b[39m word_counts[\u001b[38;5;124m'\u001b[39m\u001b[38;5;124mall\u001b[39m\u001b[38;5;124m'\u001b[39m],\n\u001b[1;32m      4\u001b[0m          p_ham\u001b[38;5;241m=\u001b[39mword_counts\u001b[38;5;241m.\u001b[39mham \u001b[38;5;241m/\u001b[39m word_counts[\u001b[38;5;124m'\u001b[39m\u001b[38;5;124mall\u001b[39m\u001b[38;5;124m'\u001b[39m])\n\u001b[1;32m      5\u001b[0m  \u001b[38;5;241m.\u001b[39msort_values(by\u001b[38;5;241m=\u001b[39m\u001b[38;5;124m'\u001b[39m\u001b[38;5;124mall\u001b[39m\u001b[38;5;124m'\u001b[39m)\n\u001b[1;32m      6\u001b[0m  [[\u001b[38;5;124m'\u001b[39m\u001b[38;5;124mp_spam\u001b[39m\u001b[38;5;124m'\u001b[39m, \u001b[38;5;124m'\u001b[39m\u001b[38;5;124mp_ham\u001b[39m\u001b[38;5;124m'\u001b[39m]]\n\u001b[1;32m      7\u001b[0m  \u001b[38;5;241m.\u001b[39mtail(\u001b[38;5;241m20\u001b[39m)\n\u001b[1;32m      8\u001b[0m  \u001b[38;5;241m.\u001b[39msort_values(\u001b[38;5;124m'\u001b[39m\u001b[38;5;124mp_ham\u001b[39m\u001b[38;5;124m'\u001b[39m)\n\u001b[1;32m      9\u001b[0m  \u001b[38;5;241m.\u001b[39mplot\u001b[38;5;241m.\u001b[39mbarh(stacked\u001b[38;5;241m=\u001b[39m\u001b[38;5;28;01mTrue\u001b[39;00m))\n\u001b[1;32m     11\u001b[0m plt\u001b[38;5;241m.\u001b[39mtitle(\u001b[38;5;124m'\u001b[39m\u001b[38;5;124mProportion of Spam vs Ham for the 20 most common words\u001b[39m\u001b[38;5;124m'\u001b[39m)\n",
      "\u001b[0;31mNameError\u001b[0m: name 'word_counts' is not defined"
     ]
    }
   ],
   "source": [
    "# figure out the percentage of spam vs ham\n",
    "(word_counts\n",
    " .assign(p_spam=word_counts.spam / word_counts['all'],\n",
    "         p_ham=word_counts.ham / word_counts['all'])\n",
    " .sort_values(by='all')\n",
    " [['p_spam', 'p_ham']]\n",
    " .tail(20)\n",
    " .sort_values('p_ham')\n",
    " .plot.barh(stacked=True))\n",
    "\n",
    "plt.title('Proportion of Spam vs Ham for the 20 most common words')\n"
   ]
  },
  {
   "cell_type": "code",
   "execution_count": null,
   "id": "972b21b1-3830-4f36-9750-c08ab2c1ab23",
   "metadata": {},
   "outputs": [],
   "source": []
  },
  {
   "cell_type": "code",
   "execution_count": null,
   "id": "f52c1924-a542-488b-94e8-19b37f66f205",
   "metadata": {},
   "outputs": [],
   "source": []
  },
  {
   "cell_type": "code",
   "execution_count": null,
   "id": "f13f2f1f-62d7-42f3-bc13-dcbcf52bdbe4",
   "metadata": {},
   "outputs": [],
   "source": []
  },
  {
   "cell_type": "code",
   "execution_count": null,
   "id": "acbdc230-ffe7-4c19-9354-f7d28166aeb0",
   "metadata": {},
   "outputs": [],
   "source": []
  },
  {
   "cell_type": "code",
   "execution_count": null,
   "id": "32f70fb2-8a30-4c71-897e-1ea2a4a4e986",
   "metadata": {},
   "outputs": [],
   "source": [
    "\n"
   ]
  }
 ],
 "metadata": {
  "kernelspec": {
   "display_name": "Python 3 (ipykernel)",
   "language": "python",
   "name": "python3"
  },
  "language_info": {
   "codemirror_mode": {
    "name": "ipython",
    "version": 3
   },
   "file_extension": ".py",
   "mimetype": "text/x-python",
   "name": "python",
   "nbconvert_exporter": "python",
   "pygments_lexer": "ipython3",
   "version": "3.10.9"
  }
 },
 "nbformat": 4,
 "nbformat_minor": 5
}
